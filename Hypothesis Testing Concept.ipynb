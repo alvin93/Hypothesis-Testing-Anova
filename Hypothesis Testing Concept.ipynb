{
 "cells": [
  {
   "cell_type": "markdown",
   "id": "18e3ecf6",
   "metadata": {},
   "source": [
    "## Pengujian Hipotesis Untuk Membuktikan Apakah Education Berpengaruh Terhadap Income Atau Tidak?\n",
    "HW_Hypothesis Testing Concept_Alvin Christians <br>\n",
    "\n",
    "Berikut ini adalah daftar isi dari Notebook ini: <br>\n",
    "\n",
    "1. Data Preparation\n",
    "2. Descriptive Statistics\n",
    "3. Hypothesis Testing ANOVA"
   ]
  },
  {
   "cell_type": "markdown",
   "id": "94536626",
   "metadata": {},
   "source": [
    "## <span style='color:Black '> 1. Data Preparation </span>\n",
    "<img style=\"float: left;\" src=\"image4.png\" width=\"50\"/>"
   ]
  },
  {
   "cell_type": "code",
   "execution_count": null,
   "id": "f6cdfc69",
   "metadata": {},
   "outputs": [],
   "source": [
    "# Import Library\n",
    "\n",
    "import pandas as pd\n",
    "import numpy as np\n",
    "import scipy.stats as st"
   ]
  },
  {
   "cell_type": "code",
   "execution_count": 3,
   "id": "66d40231",
   "metadata": {},
   "outputs": [],
   "source": [
    "# Upload file CSV\n",
    "df = pd.read_csv('marketing_campaign.csv',delimiter='\\t')\n"
   ]
  },
  {
   "cell_type": "code",
   "execution_count": 4,
   "id": "3045d1c5",
   "metadata": {},
   "outputs": [
    {
     "data": {
      "text/html": [
       "<div>\n",
       "<style scoped>\n",
       "    .dataframe tbody tr th:only-of-type {\n",
       "        vertical-align: middle;\n",
       "    }\n",
       "\n",
       "    .dataframe tbody tr th {\n",
       "        vertical-align: top;\n",
       "    }\n",
       "\n",
       "    .dataframe thead th {\n",
       "        text-align: right;\n",
       "    }\n",
       "</style>\n",
       "<table border=\"1\" class=\"dataframe\">\n",
       "  <thead>\n",
       "    <tr style=\"text-align: right;\">\n",
       "      <th></th>\n",
       "      <th>ID</th>\n",
       "      <th>Year_Birth</th>\n",
       "      <th>Education</th>\n",
       "      <th>Marital_Status</th>\n",
       "      <th>Income</th>\n",
       "      <th>Kidhome</th>\n",
       "      <th>Teenhome</th>\n",
       "      <th>Dt_Customer</th>\n",
       "      <th>Recency</th>\n",
       "      <th>MntWines</th>\n",
       "      <th>...</th>\n",
       "      <th>NumWebVisitsMonth</th>\n",
       "      <th>AcceptedCmp3</th>\n",
       "      <th>AcceptedCmp4</th>\n",
       "      <th>AcceptedCmp5</th>\n",
       "      <th>AcceptedCmp1</th>\n",
       "      <th>AcceptedCmp2</th>\n",
       "      <th>Complain</th>\n",
       "      <th>Z_CostContact</th>\n",
       "      <th>Z_Revenue</th>\n",
       "      <th>Response</th>\n",
       "    </tr>\n",
       "  </thead>\n",
       "  <tbody>\n",
       "    <tr>\n",
       "      <th>0</th>\n",
       "      <td>5524</td>\n",
       "      <td>1957</td>\n",
       "      <td>Graduation</td>\n",
       "      <td>Single</td>\n",
       "      <td>58138.0</td>\n",
       "      <td>0</td>\n",
       "      <td>0</td>\n",
       "      <td>04-09-2012</td>\n",
       "      <td>58</td>\n",
       "      <td>635</td>\n",
       "      <td>...</td>\n",
       "      <td>7</td>\n",
       "      <td>0</td>\n",
       "      <td>0</td>\n",
       "      <td>0</td>\n",
       "      <td>0</td>\n",
       "      <td>0</td>\n",
       "      <td>0</td>\n",
       "      <td>3</td>\n",
       "      <td>11</td>\n",
       "      <td>1</td>\n",
       "    </tr>\n",
       "    <tr>\n",
       "      <th>1</th>\n",
       "      <td>2174</td>\n",
       "      <td>1954</td>\n",
       "      <td>Graduation</td>\n",
       "      <td>Single</td>\n",
       "      <td>46344.0</td>\n",
       "      <td>1</td>\n",
       "      <td>1</td>\n",
       "      <td>08-03-2014</td>\n",
       "      <td>38</td>\n",
       "      <td>11</td>\n",
       "      <td>...</td>\n",
       "      <td>5</td>\n",
       "      <td>0</td>\n",
       "      <td>0</td>\n",
       "      <td>0</td>\n",
       "      <td>0</td>\n",
       "      <td>0</td>\n",
       "      <td>0</td>\n",
       "      <td>3</td>\n",
       "      <td>11</td>\n",
       "      <td>0</td>\n",
       "    </tr>\n",
       "    <tr>\n",
       "      <th>2</th>\n",
       "      <td>4141</td>\n",
       "      <td>1965</td>\n",
       "      <td>Graduation</td>\n",
       "      <td>Together</td>\n",
       "      <td>71613.0</td>\n",
       "      <td>0</td>\n",
       "      <td>0</td>\n",
       "      <td>21-08-2013</td>\n",
       "      <td>26</td>\n",
       "      <td>426</td>\n",
       "      <td>...</td>\n",
       "      <td>4</td>\n",
       "      <td>0</td>\n",
       "      <td>0</td>\n",
       "      <td>0</td>\n",
       "      <td>0</td>\n",
       "      <td>0</td>\n",
       "      <td>0</td>\n",
       "      <td>3</td>\n",
       "      <td>11</td>\n",
       "      <td>0</td>\n",
       "    </tr>\n",
       "    <tr>\n",
       "      <th>3</th>\n",
       "      <td>6182</td>\n",
       "      <td>1984</td>\n",
       "      <td>Graduation</td>\n",
       "      <td>Together</td>\n",
       "      <td>26646.0</td>\n",
       "      <td>1</td>\n",
       "      <td>0</td>\n",
       "      <td>10-02-2014</td>\n",
       "      <td>26</td>\n",
       "      <td>11</td>\n",
       "      <td>...</td>\n",
       "      <td>6</td>\n",
       "      <td>0</td>\n",
       "      <td>0</td>\n",
       "      <td>0</td>\n",
       "      <td>0</td>\n",
       "      <td>0</td>\n",
       "      <td>0</td>\n",
       "      <td>3</td>\n",
       "      <td>11</td>\n",
       "      <td>0</td>\n",
       "    </tr>\n",
       "    <tr>\n",
       "      <th>4</th>\n",
       "      <td>5324</td>\n",
       "      <td>1981</td>\n",
       "      <td>PhD</td>\n",
       "      <td>Married</td>\n",
       "      <td>58293.0</td>\n",
       "      <td>1</td>\n",
       "      <td>0</td>\n",
       "      <td>19-01-2014</td>\n",
       "      <td>94</td>\n",
       "      <td>173</td>\n",
       "      <td>...</td>\n",
       "      <td>5</td>\n",
       "      <td>0</td>\n",
       "      <td>0</td>\n",
       "      <td>0</td>\n",
       "      <td>0</td>\n",
       "      <td>0</td>\n",
       "      <td>0</td>\n",
       "      <td>3</td>\n",
       "      <td>11</td>\n",
       "      <td>0</td>\n",
       "    </tr>\n",
       "  </tbody>\n",
       "</table>\n",
       "<p>5 rows × 29 columns</p>\n",
       "</div>"
      ],
      "text/plain": [
       "     ID  Year_Birth   Education Marital_Status   Income  Kidhome  Teenhome  \\\n",
       "0  5524        1957  Graduation         Single  58138.0        0         0   \n",
       "1  2174        1954  Graduation         Single  46344.0        1         1   \n",
       "2  4141        1965  Graduation       Together  71613.0        0         0   \n",
       "3  6182        1984  Graduation       Together  26646.0        1         0   \n",
       "4  5324        1981         PhD        Married  58293.0        1         0   \n",
       "\n",
       "  Dt_Customer  Recency  MntWines  ...  NumWebVisitsMonth  AcceptedCmp3  \\\n",
       "0  04-09-2012       58       635  ...                  7             0   \n",
       "1  08-03-2014       38        11  ...                  5             0   \n",
       "2  21-08-2013       26       426  ...                  4             0   \n",
       "3  10-02-2014       26        11  ...                  6             0   \n",
       "4  19-01-2014       94       173  ...                  5             0   \n",
       "\n",
       "   AcceptedCmp4  AcceptedCmp5  AcceptedCmp1  AcceptedCmp2  Complain  \\\n",
       "0             0             0             0             0         0   \n",
       "1             0             0             0             0         0   \n",
       "2             0             0             0             0         0   \n",
       "3             0             0             0             0         0   \n",
       "4             0             0             0             0         0   \n",
       "\n",
       "   Z_CostContact  Z_Revenue  Response  \n",
       "0              3         11         1  \n",
       "1              3         11         0  \n",
       "2              3         11         0  \n",
       "3              3         11         0  \n",
       "4              3         11         0  \n",
       "\n",
       "[5 rows x 29 columns]"
      ]
     },
     "execution_count": 4,
     "metadata": {},
     "output_type": "execute_result"
    }
   ],
   "source": [
    "# Menampilkan 5 data teratas\n",
    "\n",
    "df.head()"
   ]
  },
  {
   "cell_type": "code",
   "execution_count": 5,
   "id": "2e430737",
   "metadata": {},
   "outputs": [
    {
     "data": {
      "text/plain": [
       "(2240, 29)"
      ]
     },
     "execution_count": 5,
     "metadata": {},
     "output_type": "execute_result"
    }
   ],
   "source": [
    "# Check dataframe shape\n",
    "\n",
    "df.shape"
   ]
  },
  {
   "cell_type": "code",
   "execution_count": 13,
   "id": "2f2cc902",
   "metadata": {},
   "outputs": [
    {
     "data": {
      "text/plain": [
       "ID                     False\n",
       "Year_Birth             False\n",
       "Education              False\n",
       "Marital_Status         False\n",
       "Income                 False\n",
       "Kidhome                False\n",
       "Teenhome               False\n",
       "Dt_Customer            False\n",
       "Recency                False\n",
       "MntWines               False\n",
       "MntFruits              False\n",
       "MntMeatProducts        False\n",
       "MntFishProducts        False\n",
       "MntSweetProducts       False\n",
       "MntGoldProds           False\n",
       "NumDealsPurchases      False\n",
       "NumWebPurchases        False\n",
       "NumCatalogPurchases    False\n",
       "NumStorePurchases      False\n",
       "NumWebVisitsMonth      False\n",
       "AcceptedCmp3           False\n",
       "AcceptedCmp4           False\n",
       "AcceptedCmp5           False\n",
       "AcceptedCmp1           False\n",
       "AcceptedCmp2           False\n",
       "Complain               False\n",
       "Z_CostContact          False\n",
       "Z_Revenue              False\n",
       "Response               False\n",
       "dtype: bool"
      ]
     },
     "execution_count": 13,
     "metadata": {},
     "output_type": "execute_result"
    }
   ],
   "source": [
    "# Check apakah terdapat kolom yang memiliki data kosong\n",
    "\n",
    "df.isnull().any(axis=0)"
   ]
  },
  {
   "cell_type": "code",
   "execution_count": 14,
   "id": "5c182e08",
   "metadata": {},
   "outputs": [
    {
     "name": "stdout",
     "output_type": "stream",
     "text": [
      "0       58138.0\n",
      "1       46344.0\n",
      "2       71613.0\n",
      "3       26646.0\n",
      "4       58293.0\n",
      "         ...   \n",
      "2235    61223.0\n",
      "2236    64014.0\n",
      "2237    56981.0\n",
      "2238    69245.0\n",
      "2239    52869.0\n",
      "Name: Income, Length: 2240, dtype: float64\n"
     ]
    }
   ],
   "source": [
    "# Check jumlah data yang kosong pada kolom Income\n",
    "\n",
    "df['Income'].isnull().sum()\n"
   ]
  },
  {
   "cell_type": "code",
   "execution_count": 16,
   "id": "72e97a2e",
   "metadata": {},
   "outputs": [],
   "source": [
    "# Mengisi data yang kosong\n",
    "\n",
    "df['Income'] = df['Income'].fillna(df['Income'].mean())"
   ]
  },
  {
   "cell_type": "code",
   "execution_count": 17,
   "id": "ebd41335",
   "metadata": {},
   "outputs": [
    {
     "data": {
      "text/plain": [
       "count      2240.000000\n",
       "mean      52247.251354\n",
       "std       25037.797168\n",
       "min        1730.000000\n",
       "25%       35538.750000\n",
       "50%       51741.500000\n",
       "75%       68289.750000\n",
       "max      666666.000000\n",
       "Name: Income, dtype: float64"
      ]
     },
     "execution_count": 17,
     "metadata": {},
     "output_type": "execute_result"
    }
   ],
   "source": [
    "# Menampilkan descriptive statistik data\n",
    "\n",
    "df['Income'].describe()"
   ]
  },
  {
   "cell_type": "markdown",
   "id": "9310eb26",
   "metadata": {},
   "source": [
    "## <span style='color:Black '> 2. Descriptive Statistics </span>\n",
    "<img style=\"float: left;\" src=\"image1.png\" width=\"50\"/>"
   ]
  },
  {
   "cell_type": "code",
   "execution_count": 25,
   "id": "baef8709",
   "metadata": {},
   "outputs": [
    {
     "name": "stdout",
     "output_type": "stream",
     "text": [
      "Mean Of Income :  52247.25135379059\n"
     ]
    }
   ],
   "source": [
    "# Mencari Rata-rata Income\n",
    "\n",
    "mean_income = df['Income'].mean()\n",
    "print('Mean Of Income : ',mean_income)"
   ]
  },
  {
   "cell_type": "code",
   "execution_count": 26,
   "id": "3b6f27df",
   "metadata": {},
   "outputs": [
    {
     "name": "stdout",
     "output_type": "stream",
     "text": [
      "Median Of Income :  51741.5\n"
     ]
    }
   ],
   "source": [
    "# Mencari Nilai Tengah Income\n",
    "\n",
    "median_income = df['Income'].median()\n",
    "print('Median Of Income : ',median_income)"
   ]
  },
  {
   "cell_type": "code",
   "execution_count": 46,
   "id": "383f8848",
   "metadata": {},
   "outputs": [
    {
     "data": {
      "text/plain": [
       "array(['Graduation', 'PhD', 'Master', 'Basic', '2n Cycle'], dtype=object)"
      ]
     },
     "execution_count": 46,
     "metadata": {},
     "output_type": "execute_result"
    }
   ],
   "source": [
    "# Mencari varian yang ada pada Education\n",
    "\n",
    "df['Education'].unique()"
   ]
  },
  {
   "cell_type": "code",
   "execution_count": 40,
   "id": "2ad5918d",
   "metadata": {},
   "outputs": [
    {
     "name": "stdout",
     "output_type": "stream",
     "text": [
      "Modus Of Education :  Graduation\n"
     ]
    }
   ],
   "source": [
    "# Mencari jenis Edukasi yang paling banyak keluar\n",
    "\n",
    "modus_education = df['Education'].mode()[0]\n",
    "print('Modus Of Education : ',modus_education)"
   ]
  },
  {
   "cell_type": "markdown",
   "id": "1ae1da42",
   "metadata": {},
   "source": [
    "## <span style='color:Black '> 3. Hypothesis Testing ANOVA </span>\n",
    "<img style=\"float: left;\" src=\"image3.png\" width=\"50\"/>"
   ]
  },
  {
   "cell_type": "code",
   "execution_count": 43,
   "id": "f8a1f73a",
   "metadata": {},
   "outputs": [
    {
     "data": {
      "text/html": [
       "<div>\n",
       "<style scoped>\n",
       "    .dataframe tbody tr th:only-of-type {\n",
       "        vertical-align: middle;\n",
       "    }\n",
       "\n",
       "    .dataframe tbody tr th {\n",
       "        vertical-align: top;\n",
       "    }\n",
       "\n",
       "    .dataframe thead th {\n",
       "        text-align: right;\n",
       "    }\n",
       "</style>\n",
       "<table border=\"1\" class=\"dataframe\">\n",
       "  <thead>\n",
       "    <tr style=\"text-align: right;\">\n",
       "      <th></th>\n",
       "      <th>count</th>\n",
       "      <th>mean</th>\n",
       "      <th>std</th>\n",
       "      <th>min</th>\n",
       "      <th>25%</th>\n",
       "      <th>50%</th>\n",
       "      <th>75%</th>\n",
       "      <th>max</th>\n",
       "    </tr>\n",
       "    <tr>\n",
       "      <th>Education</th>\n",
       "      <th></th>\n",
       "      <th></th>\n",
       "      <th></th>\n",
       "      <th></th>\n",
       "      <th></th>\n",
       "      <th></th>\n",
       "      <th></th>\n",
       "      <th></th>\n",
       "    </tr>\n",
       "  </thead>\n",
       "  <tbody>\n",
       "    <tr>\n",
       "      <th>2n Cycle</th>\n",
       "      <td>203.0</td>\n",
       "      <td>47701.378099</td>\n",
       "      <td>21961.310186</td>\n",
       "      <td>7500.0</td>\n",
       "      <td>28095.00</td>\n",
       "      <td>46891.000000</td>\n",
       "      <td>65100.5</td>\n",
       "      <td>96547.0</td>\n",
       "    </tr>\n",
       "    <tr>\n",
       "      <th>Basic</th>\n",
       "      <td>54.0</td>\n",
       "      <td>20306.259259</td>\n",
       "      <td>6235.066773</td>\n",
       "      <td>7500.0</td>\n",
       "      <td>15405.25</td>\n",
       "      <td>20744.000000</td>\n",
       "      <td>24882.0</td>\n",
       "      <td>34445.0</td>\n",
       "    </tr>\n",
       "    <tr>\n",
       "      <th>Graduation</th>\n",
       "      <td>1127.0</td>\n",
       "      <td>52715.755781</td>\n",
       "      <td>28039.260682</td>\n",
       "      <td>1730.0</td>\n",
       "      <td>34925.50</td>\n",
       "      <td>52247.251354</td>\n",
       "      <td>69737.0</td>\n",
       "      <td>666666.0</td>\n",
       "    </tr>\n",
       "    <tr>\n",
       "      <th>Master</th>\n",
       "      <td>370.0</td>\n",
       "      <td>52908.476370</td>\n",
       "      <td>20020.901834</td>\n",
       "      <td>6560.0</td>\n",
       "      <td>37853.75</td>\n",
       "      <td>51044.500000</td>\n",
       "      <td>66596.0</td>\n",
       "      <td>157733.0</td>\n",
       "    </tr>\n",
       "    <tr>\n",
       "      <th>PhD</th>\n",
       "      <td>486.0</td>\n",
       "      <td>56105.210405</td>\n",
       "      <td>20510.232102</td>\n",
       "      <td>4023.0</td>\n",
       "      <td>40654.25</td>\n",
       "      <td>55005.000000</td>\n",
       "      <td>69084.0</td>\n",
       "      <td>162397.0</td>\n",
       "    </tr>\n",
       "  </tbody>\n",
       "</table>\n",
       "</div>"
      ],
      "text/plain": [
       "             count          mean           std     min       25%  \\\n",
       "Education                                                          \n",
       "2n Cycle     203.0  47701.378099  21961.310186  7500.0  28095.00   \n",
       "Basic         54.0  20306.259259   6235.066773  7500.0  15405.25   \n",
       "Graduation  1127.0  52715.755781  28039.260682  1730.0  34925.50   \n",
       "Master       370.0  52908.476370  20020.901834  6560.0  37853.75   \n",
       "PhD          486.0  56105.210405  20510.232102  4023.0  40654.25   \n",
       "\n",
       "                     50%      75%       max  \n",
       "Education                                    \n",
       "2n Cycle    46891.000000  65100.5   96547.0  \n",
       "Basic       20744.000000  24882.0   34445.0  \n",
       "Graduation  52247.251354  69737.0  666666.0  \n",
       "Master      51044.500000  66596.0  157733.0  \n",
       "PhD         55005.000000  69084.0  162397.0  "
      ]
     },
     "execution_count": 43,
     "metadata": {},
     "output_type": "execute_result"
    }
   ],
   "source": [
    "# Check group berdasarkan Education\n",
    "\n",
    "Education_Income = df.groupby(['Education'])['Income']\n",
    "Education_Income.describe()"
   ]
  },
  {
   "cell_type": "code",
   "execution_count": 82,
   "id": "a44a8873",
   "metadata": {},
   "outputs": [],
   "source": [
    "dfCycle =df[df['Education'] == '2n Cycle']\n",
    "dfGraduation = df[df['Education'] == 'Graduation']\n",
    "dfPhD = df[df['Education'] == 'PhD']\n",
    "dfMaster = df[df['Education'] == 'Master']\n",
    "dfBasic = df[df['Education'] == 'Basic']"
   ]
  },
  {
   "cell_type": "code",
   "execution_count": 83,
   "id": "459eba41",
   "metadata": {},
   "outputs": [],
   "source": [
    "# Pengujian Untuk Anova\n",
    "\n",
    "Anova_Test = st.f_oneway(dfCycle['Income'],\n",
    "                         dfGraduation['Income'],\n",
    "                         dfPhD['Income'],\n",
    "                         dfMaster['Income'],\n",
    "                         dfBasic['Income'])"
   ]
  },
  {
   "cell_type": "code",
   "execution_count": 84,
   "id": "07a19068",
   "metadata": {},
   "outputs": [
    {
     "name": "stdout",
     "output_type": "stream",
     "text": [
      "1.0531133036234708e-22\n"
     ]
    }
   ],
   "source": [
    "# Mencari PValue\n",
    "\n",
    "Hasil_Uji_Anova = Anova_Test.pvalue\n",
    "print(Hasil_Uji_Anova)"
   ]
  },
  {
   "cell_type": "code",
   "execution_count": 86,
   "id": "a8bfdf07",
   "metadata": {},
   "outputs": [
    {
     "name": "stdout",
     "output_type": "stream",
     "text": [
      "Education Berpengaruh Terhadap Income\n"
     ]
    }
   ],
   "source": [
    "# Hasil Uji Anova\n",
    "\n",
    "if Hasil_Uji_Anova > 0.05:\n",
    "  print('Education Tidak Berpengaruh Terhadap Income')\n",
    "else:\n",
    "  print('Education Berpengaruh Terhadap Income')"
   ]
  },
  {
   "cell_type": "code",
   "execution_count": 79,
   "id": "56941ddb",
   "metadata": {},
   "outputs": [
    {
     "data": {
      "text/plain": [
       "Education\n",
       "2n Cycle      47701.378099\n",
       "Basic         20306.259259\n",
       "Graduation    52715.755781\n",
       "Master        52908.476370\n",
       "PhD           56105.210405\n",
       "Name: Income, dtype: float64"
      ]
     },
     "execution_count": 79,
     "metadata": {},
     "output_type": "execute_result"
    }
   ],
   "source": [
    "# Melihat Rata-Rata Income Dari Masing-Masing Education\n",
    "\n",
    "df.groupby(['Education'])['Income'].mean()"
   ]
  }
 ],
 "metadata": {
  "kernelspec": {
   "display_name": "Python 3 (ipykernel)",
   "language": "python",
   "name": "python3"
  },
  "language_info": {
   "codemirror_mode": {
    "name": "ipython",
    "version": 3
   },
   "file_extension": ".py",
   "mimetype": "text/x-python",
   "name": "python",
   "nbconvert_exporter": "python",
   "pygments_lexer": "ipython3",
   "version": "3.9.7"
  }
 },
 "nbformat": 4,
 "nbformat_minor": 5
}
